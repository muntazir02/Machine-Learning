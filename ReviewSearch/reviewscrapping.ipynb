{
 "cells": [
  {
   "attachments": {},
   "cell_type": "markdown",
   "metadata": {},
   "source": [
    "# Create "
   ]
  },
  {
   "cell_type": "code",
   "execution_count": 2,
   "metadata": {},
   "outputs": [],
   "source": [
    "import requests\n",
    "from bs4 import BeautifulSoup\n",
    "\n",
    "def scrape_google_reviews(place_id):\n",
    "    # Construct the URL for the place\n",
    "    url = f\"https://www.google.com/maps/place/?q=place_id:{place_id}\"\n",
    "    \n",
    "    # Send a GET request to the URL\n",
    "    response = requests.get(url)\n",
    "    \n",
    "    # Parse the HTML content\n",
    "    soup = BeautifulSoup(response.content, \"html.parser\")\n",
    "    \n",
    "    # Find all review elements\n",
    "    review_elements = soup.find_all(\"div\", class_=\"section-review-content\")\n",
    "    \n",
    "    # Extract the review details\n",
    "    reviews = []\n",
    "    for review in review_elements:\n",
    "        # Get the review text\n",
    "        review_text = review.find(\"span\", class_=\"section-review-text\").text.strip()\n",
    "        \n",
    "        # Get the reviewer's name\n",
    "        reviewer_name = review.find(\"div\", class_=\"section-review-title\").text.strip()\n",
    "        \n",
    "        # Get the reviewer's rating\n",
    "        rating = review.find(\"span\", class_=\"section-review-stars\")[\"aria-label\"].split()[1]\n",
    "        \n",
    "        # Append the review details to the list\n",
    "        reviews.append({\"reviewer_name\": reviewer_name, \"rating\": rating, \"review_text\": review_text})\n",
    "    \n",
    "    return reviews\n",
    "\n",
    "# Example usage\n",
    "place_id = \"YOUR_PLACE_ID\"\n",
    "reviews = scrape_google_reviews(place_id)\n",
    "\n",
    "# Print the scraped reviews\n",
    "for review in reviews:\n",
    "    print(f\"Reviewer: {review['reviewer_name']}\")\n",
    "    print(f\"Rating: {review['rating']}\")\n",
    "    print(f\"Review: {review['review_text']}\")\n",
    "    print()\n"
   ]
  }
 ],
 "metadata": {
  "kernelspec": {
   "display_name": "Python 3",
   "language": "python",
   "name": "python3"
  },
  "language_info": {
   "codemirror_mode": {
    "name": "ipython",
    "version": 3
   },
   "file_extension": ".py",
   "mimetype": "text/x-python",
   "name": "python",
   "nbconvert_exporter": "python",
   "pygments_lexer": "ipython3",
   "version": "3.10.10"
  },
  "orig_nbformat": 4
 },
 "nbformat": 4,
 "nbformat_minor": 2
}
